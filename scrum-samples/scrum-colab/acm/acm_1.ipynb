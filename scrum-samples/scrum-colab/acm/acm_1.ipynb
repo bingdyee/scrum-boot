{
 "cells": [
  {
   "cell_type": "code",
   "execution_count": 15,
   "metadata": {
    "collapsed": true,
    "pycharm": {
     "name": "#%%\n"
    }
   },
   "outputs": [],
   "source": [
    "from itertools import permutations\n",
    "\n",
    "\n",
    "def get_perm_data(n, k):\n",
    "    \"\"\"排列组合\"\"\"\n",
    "    num_str = [str(i) for i in range(1, n + 1)]\n",
    "    arr = [int(''.join(a)) for a in permutations(num_str, n)]\n",
    "    arr.sort()\n",
    "    print(arr[k])\n",
    "\n",
    "\n",
    "def get_perm(arr, pos, ans):\n",
    "    \"\"\"排列组合\"\"\"\n",
    "    if pos == len(arr):\n",
    "        ans.append(arr.copy())\n",
    "    for i in range(pos, len(arr)):\n",
    "        arr[pos], arr[i] = arr[i], arr[pos]\n",
    "        get_perm(arr, pos + 1, ans)\n",
    "        arr[pos], arr[i] = arr[i], arr[pos]\n"
   ]
  },
  {
   "cell_type": "code",
   "execution_count": 16,
   "outputs": [],
   "source": [
    "factorial = lambda n: n if n == 1 else n * factorial(n - 1)"
   ],
   "metadata": {
    "collapsed": false,
    "pycharm": {
     "name": "#%%\n"
    }
   }
  },
  {
   "cell_type": "code",
   "execution_count": null,
   "outputs": [],
   "source": [
    "def get_split_str(k, string):\n",
    "    \"\"\"字符串分隔\"\"\"\n",
    "    strs = string.split('-')\n",
    "    td_strs = strs[1:]\n",
    "    rs = [strs[0]]\n",
    "    for td_str in td_strs:\n",
    "        tmp_strs = [td_str[i:i+k] for i in range(0, len(td_str), k)]\n",
    "        for tmp_str in tmp_strs:\n",
    "            up_count, low_count = 0, 0\n",
    "            for ch in tmp_str:\n",
    "                if ch.isupper():\n",
    "                    up_count += 1\n",
    "                elif ch.islower():\n",
    "                    low_count += 1\n",
    "            if up_count > low_count:\n",
    "                rs.append(tmp_str.upper())\n",
    "            elif up_count < low_count:\n",
    "                rs.append(tmp_str.lower())\n",
    "            else:\n",
    "                rs.append(tmp_str)\n",
    "    return '-'.join(rs)"
   ],
   "metadata": {
    "collapsed": false,
    "pycharm": {
     "name": "#%%\n"
    }
   }
  }
 ],
 "metadata": {
  "kernelspec": {
   "display_name": "Python 3",
   "language": "python",
   "name": "python3"
  },
  "language_info": {
   "codemirror_mode": {
    "name": "ipython",
    "version": 2
   },
   "file_extension": ".py",
   "mimetype": "text/x-python",
   "name": "python",
   "nbconvert_exporter": "python",
   "pygments_lexer": "ipython2",
   "version": "2.7.6"
  }
 },
 "nbformat": 4,
 "nbformat_minor": 0
}